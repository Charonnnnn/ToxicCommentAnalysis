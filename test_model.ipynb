{
 "cells": [
  {
   "cell_type": "code",
   "execution_count": 74,
   "metadata": {},
   "outputs": [],
   "source": [
    "from pyspark import SparkConf, SparkContext\n",
    "from pyspark.sql import SparkSession\n",
    "\n",
    "spark = SparkSession.builder.master(\"local[4]\") \\\n",
    "   .appName(\"testmodel\") \\\n",
    "   .enableHiveSupport() \\\n",
    "   .getOrCreate()\n",
    "\n",
    "sc = spark.sparkContext\n",
    "# https://blog.csdn.net/wsp_1138886114/article/details/80634890?utm_source=blogxgwz0#step-3-%E5%88%9B%E5%BB%BApipline%E5%AE%9E%E4%BE%8B%E5%AF%B9%E8%B1%A1%E8%AE%AD%E7%BB%83%E6%A8%A1%E5%9E%8B%E4%B8%8E%E9%A2%84%E6%B5%8B"
   ]
  },
  {
   "cell_type": "code",
   "execution_count": 97,
   "metadata": {},
   "outputs": [],
   "source": [
    "import numpy as np\n",
    "import pandas as pd\n",
    "\n",
    "np.set_printoptions(suppress=True)\n",
    "pd.set_option('display.max_columns', 10000, 'display.max_rows', 10000)\n",
    "\n",
    "test = pd.read_csv('data/test.csv')"
   ]
  },
  {
   "cell_type": "code",
   "execution_count": 98,
   "metadata": {},
   "outputs": [
    {
     "data": {
      "text/html": [
       "<div>\n",
       "<style scoped>\n",
       "    .dataframe tbody tr th:only-of-type {\n",
       "        vertical-align: middle;\n",
       "    }\n",
       "\n",
       "    .dataframe tbody tr th {\n",
       "        vertical-align: top;\n",
       "    }\n",
       "\n",
       "    .dataframe thead th {\n",
       "        text-align: right;\n",
       "    }\n",
       "</style>\n",
       "<table border=\"1\" class=\"dataframe\">\n",
       "  <thead>\n",
       "    <tr style=\"text-align: right;\">\n",
       "      <th></th>\n",
       "      <th>id</th>\n",
       "      <th>comment_text</th>\n",
       "    </tr>\n",
       "  </thead>\n",
       "  <tbody>\n",
       "    <tr>\n",
       "      <th>0</th>\n",
       "      <td>00001cee341fdb12</td>\n",
       "      <td>Yo bitch Ja Rule is more succesful then you'll...</td>\n",
       "    </tr>\n",
       "    <tr>\n",
       "      <th>1</th>\n",
       "      <td>0000247867823ef7</td>\n",
       "      <td>== From RfC == \\n\\n The title is fine as it is...</td>\n",
       "    </tr>\n",
       "    <tr>\n",
       "      <th>2</th>\n",
       "      <td>00013b17ad220c46</td>\n",
       "      <td>\" \\n\\n == Sources == \\n\\n * Zawe Ashton on Lap...</td>\n",
       "    </tr>\n",
       "    <tr>\n",
       "      <th>3</th>\n",
       "      <td>00017563c3f7919a</td>\n",
       "      <td>:If you have a look back at the source, the in...</td>\n",
       "    </tr>\n",
       "    <tr>\n",
       "      <th>4</th>\n",
       "      <td>00017695ad8997eb</td>\n",
       "      <td>I don't anonymously edit articles at all.</td>\n",
       "    </tr>\n",
       "  </tbody>\n",
       "</table>\n",
       "</div>"
      ],
      "text/plain": [
       "                 id                                       comment_text\n",
       "0  00001cee341fdb12  Yo bitch Ja Rule is more succesful then you'll...\n",
       "1  0000247867823ef7  == From RfC == \\n\\n The title is fine as it is...\n",
       "2  00013b17ad220c46  \" \\n\\n == Sources == \\n\\n * Zawe Ashton on Lap...\n",
       "3  00017563c3f7919a  :If you have a look back at the source, the in...\n",
       "4  00017695ad8997eb          I don't anonymously edit articles at all."
      ]
     },
     "execution_count": 98,
     "metadata": {},
     "output_type": "execute_result"
    }
   ],
   "source": [
    "test.head()"
   ]
  },
  {
   "cell_type": "code",
   "execution_count": 99,
   "metadata": {},
   "outputs": [
    {
     "data": {
      "text/html": [
       "<div>\n",
       "<style scoped>\n",
       "    .dataframe tbody tr th:only-of-type {\n",
       "        vertical-align: middle;\n",
       "    }\n",
       "\n",
       "    .dataframe tbody tr th {\n",
       "        vertical-align: top;\n",
       "    }\n",
       "\n",
       "    .dataframe thead th {\n",
       "        text-align: right;\n",
       "    }\n",
       "</style>\n",
       "<table border=\"1\" class=\"dataframe\">\n",
       "  <thead>\n",
       "    <tr style=\"text-align: right;\">\n",
       "      <th></th>\n",
       "      <th>test</th>\n",
       "    </tr>\n",
       "  </thead>\n",
       "  <tbody>\n",
       "    <tr>\n",
       "      <th>id</th>\n",
       "      <td>0</td>\n",
       "    </tr>\n",
       "    <tr>\n",
       "      <th>comment_text</th>\n",
       "      <td>0</td>\n",
       "    </tr>\n",
       "  </tbody>\n",
       "</table>\n",
       "</div>"
      ],
      "text/plain": [
       "              test\n",
       "id               0\n",
       "comment_text     0"
      ]
     },
     "execution_count": 99,
     "metadata": {},
     "output_type": "execute_result"
    }
   ],
   "source": [
    "k = pd.DataFrame()\n",
    "k['test'] = test.isnull().sum()\n",
    "k"
   ]
  },
  {
   "cell_type": "code",
   "execution_count": 100,
   "metadata": {},
   "outputs": [],
   "source": [
    "import string\n",
    "from nltk.corpus import stopwords\n",
    "from nltk.tokenize import word_tokenize\n",
    "from nltk.stem.porter import PorterStemmer\n",
    "from nltk.stem import WordNetLemmatizer\n",
    "\n",
    "# print(string.punctuation)\n",
    "def mytoken_lemm(text):\n",
    "    tokens = word_tokenize(text)\n",
    "    tokens = [w.lower() for w in tokens]\n",
    "    table = str.maketrans('', '', string.punctuation)\n",
    "    stripped = [w.translate(table) for w in tokens]\n",
    "    words = [word for word in stripped if word.isalpha()]\n",
    "    stop_words = set(stopwords.words('english'))\n",
    "    words = [w for w in words if not w in stop_words]\n",
    "    lemms = []\n",
    "    for item in words:\n",
    "        lemms.append(WordNetLemmatizer().lemmatize(item))\n",
    "    return lemms"
   ]
  },
  {
   "cell_type": "code",
   "execution_count": 101,
   "metadata": {},
   "outputs": [],
   "source": [
    "test['comment_text'] = test['comment_text'].map(lambda com : mytoken_lemm(com))"
   ]
  },
  {
   "cell_type": "code",
   "execution_count": 80,
   "metadata": {},
   "outputs": [
    {
     "data": {
      "text/html": [
       "<div>\n",
       "<style scoped>\n",
       "    .dataframe tbody tr th:only-of-type {\n",
       "        vertical-align: middle;\n",
       "    }\n",
       "\n",
       "    .dataframe tbody tr th {\n",
       "        vertical-align: top;\n",
       "    }\n",
       "\n",
       "    .dataframe thead th {\n",
       "        text-align: right;\n",
       "    }\n",
       "</style>\n",
       "<table border=\"1\" class=\"dataframe\">\n",
       "  <thead>\n",
       "    <tr style=\"text-align: right;\">\n",
       "      <th></th>\n",
       "      <th>id</th>\n",
       "      <th>comment_text</th>\n",
       "    </tr>\n",
       "  </thead>\n",
       "  <tbody>\n",
       "    <tr>\n",
       "      <th>0</th>\n",
       "      <td>00001cee341fdb12</td>\n",
       "      <td>[yo, bitch, ja, rule, succesful, ever, whats, ...</td>\n",
       "    </tr>\n",
       "    <tr>\n",
       "      <th>1</th>\n",
       "      <td>0000247867823ef7</td>\n",
       "      <td>[rfc, title, fine, imo]</td>\n",
       "    </tr>\n",
       "    <tr>\n",
       "      <th>2</th>\n",
       "      <td>00013b17ad220c46</td>\n",
       "      <td>[source, zawe, ashton, lapland]</td>\n",
       "    </tr>\n",
       "    <tr>\n",
       "      <th>3</th>\n",
       "      <td>00017563c3f7919a</td>\n",
       "      <td>[look, back, source, information, updated, cor...</td>\n",
       "    </tr>\n",
       "    <tr>\n",
       "      <th>4</th>\n",
       "      <td>00017695ad8997eb</td>\n",
       "      <td>[nt, anonymously, edit, article]</td>\n",
       "    </tr>\n",
       "  </tbody>\n",
       "</table>\n",
       "</div>"
      ],
      "text/plain": [
       "                 id                                       comment_text\n",
       "0  00001cee341fdb12  [yo, bitch, ja, rule, succesful, ever, whats, ...\n",
       "1  0000247867823ef7                            [rfc, title, fine, imo]\n",
       "2  00013b17ad220c46                    [source, zawe, ashton, lapland]\n",
       "3  00017563c3f7919a  [look, back, source, information, updated, cor...\n",
       "4  00017695ad8997eb                   [nt, anonymously, edit, article]"
      ]
     },
     "execution_count": 80,
     "metadata": {},
     "output_type": "execute_result"
    }
   ],
   "source": [
    "test.head()"
   ]
  },
  {
   "cell_type": "code",
   "execution_count": 81,
   "metadata": {},
   "outputs": [],
   "source": [
    "test_df = spark.createDataFrame(test)"
   ]
  },
  {
   "cell_type": "code",
   "execution_count": 82,
   "metadata": {},
   "outputs": [
    {
     "data": {
      "text/plain": [
       "[('id', 'string'), ('comment_text', 'array<string>')]"
      ]
     },
     "execution_count": 82,
     "metadata": {},
     "output_type": "execute_result"
    }
   ],
   "source": [
    "test_df.dtypes"
   ]
  },
  {
   "cell_type": "code",
   "execution_count": 83,
   "metadata": {},
   "outputs": [],
   "source": [
    "from pyspark.ml.pipeline import PipelineModel\n",
    "load_pipeline_model = PipelineModel.load('models/tfidf-model') \n",
    "testData = load_pipeline_model.transform(test_df) "
   ]
  },
  {
   "cell_type": "code",
   "execution_count": 84,
   "metadata": {},
   "outputs": [
    {
     "name": "stdout",
     "output_type": "stream",
     "text": [
      "root\n",
      " |-- id: string (nullable = true)\n",
      " |-- comment_text: array (nullable = true)\n",
      " |    |-- element: string (containsNull = true)\n",
      " |-- rawCommentText: vector (nullable = true)\n",
      " |-- features: vector (nullable = true)\n",
      "\n"
     ]
    }
   ],
   "source": [
    "testData.printSchema()"
   ]
  },
  {
   "cell_type": "markdown",
   "metadata": {},
   "source": [
    "## lr"
   ]
  },
  {
   "cell_type": "code",
   "execution_count": 85,
   "metadata": {},
   "outputs": [
    {
     "name": "stdout",
     "output_type": "stream",
     "text": [
      "+----------------------------------------+----------------------------------------+----------+\n",
      "|                             probability|                            comment_text|prediction|\n",
      "+----------------------------------------+----------------------------------------+----------+\n",
      "|[0.49946342860910126,0.5005365713908988]|[wikipedia, sux, wikipedia, sux, wiki...|       1.0|\n",
      "|   [0.498363102227831,0.501636897772169]|[rosie, fat, piece, fucking, filthy, ...|       1.0|\n",
      "|[0.49768002572002984,0.5023199742799701]|[terrible, entry, adult, wikipedia, a...|       1.0|\n",
      "|[0.49141204960358054,0.5085879503964195]|[damned, let, white, right, wing, wea...|       1.0|\n",
      "| [0.4886520608111807,0.5113479391888193]|[kelapstick, penis, kelapstick, penis...|       1.0|\n",
      "| [0.4865335206377926,0.5134664793622075]|[nguyen, cock, suckernguyen, cock, su...|       1.0|\n",
      "|[0.47068202775750334,0.5293179722424967]|[soulja, boy, hoe, watch, crank, watc...|       1.0|\n",
      "|[0.47068202775750334,0.5293179722424967]|[soulja, boy, hoe, watch, crank, watc...|       1.0|\n",
      "| [0.46673639729394806,0.533263602706052]|[cause, stupid, viacom, sumner, assho...|       1.0|\n",
      "| [0.4631747270781986,0.5368252729218014]|[mean, like, soldier, nt, want, sent,...|       1.0|\n",
      "| [0.46300221425519505,0.536997785744805]|[oscarthecat, fucking, faggot, die, k...|       1.0|\n",
      "|[0.46174436774469535,0.5382556322553046]|[fuck, deleted, sunogun, page, wtf, f...|       1.0|\n",
      "| [0.4598749252625811,0.5401250747374188]|[hate, hate, hate, hate, hate, hate, ...|       1.0|\n",
      "| [0.4584276553075104,0.5415723446924896]|[age, kid, ft, keishum, martez, kid, ...|       1.0|\n",
      "| [0.4577066185143084,0.5422933814856915]|[kelapstick, penis, kelapstick, penis...|       1.0|\n",
      "|[0.45640173462701966,0.5435982653729804]|[nigga, nigga, nigga, nigga, nigga, n...|       1.0|\n",
      "|  [0.4488905106973809,0.551109489302619]|[hey, wasssup, fuck, gon, na, nigga, ...|       1.0|\n",
      "| [0.4411306856746261,0.5588693143253739]|[look, behind, look, behind, look, be...|       1.0|\n",
      "|[0.44088139860128406,0.5591186013987159]|[fuck, babylon, fuck, yeah, right, fi...|       1.0|\n",
      "| [0.4405857873357134,0.5594142126642866]|[loopy, loopy, loopy, loopy, loopy, l...|       1.0|\n",
      "|  [0.4281696992005441,0.571830300799456]|[notoc, sexy, shut, sexy, shut, sexy,...|       1.0|\n",
      "|[0.42815038193562494,0.5718496180643751]|[nazihe, rush, limbaugh, nazi, partia...|       1.0|\n",
      "| [0.4281063984447968,0.5718936015552032]|[love, u, ban, pussy, aint, scurred, ...|       1.0|\n",
      "| [0.4273230072293366,0.5726769927706634]|[cunt, twat, bummer, want, lick, cunt...|       1.0|\n",
      "|[0.41646306176361786,0.5835369382363822]|[hey, babe, guess, getting, email, hu...|       1.0|\n",
      "|[0.41597290425515837,0.5840270957448416]|[doushe, bag, doushe, bag, doushe, ba...|       1.0|\n",
      "|  [0.41384401983367003,0.58615598016633]|[bitch, bitch, bitch, bitch, bitch, b...|       1.0|\n",
      "| [0.4108308301332117,0.5891691698667882]|[suck, lying, sack, shit, die, bastar...|       1.0|\n",
      "| [0.4077726538511187,0.5922273461488813]|[q, team, america, world, police, gar...|       1.0|\n",
      "| [0.4043995280644576,0.5956004719355423]|[sailor, uranus, gay, sailor, uranus,...|       1.0|\n",
      "|  [0.4031169689710769,0.596883031028923]|[penis, penis, penis, penis, penis, p...|       1.0|\n",
      "|[0.39479530792134054,0.6052046920786595]|[fuck, serbia, fuck, serbia, kosova, ...|       1.0|\n",
      "| [0.3895711058611222,0.6104288941388777]|[hi, padam, chhetri, padam, chhetri, ...|       1.0|\n",
      "| [0.3891992316232905,0.6108007683767096]|[curps, fag, curps, fag, curps, fag, ...|       1.0|\n",
      "|[0.38594028990519325,0.6140597100948066]|[mr, better, u, guy, yer, last, time,...|       1.0|\n",
      "|[0.38319195320259714,0.6168080467974029]|[suggestion, azaz, v, az, v, nig, era...|       1.0|\n",
      "| [0.3816681190519868,0.6183318809480132]|[genetic, defect, politically, correc...|       1.0|\n",
      "|[0.38040539635953113,0.6195946036404688]|[hate, sonic, wall, hate, sonic, wall...|       1.0|\n",
      "|[0.37469679219698665,0.6253032078030133]|[neyoso, sick, got, ta, change, answe...|       1.0|\n",
      "|[0.37279119734434685,0.6272088026556532]|[death, woman, right, death, woman, f...|       1.0|\n",
      "| [0.3677282435617044,0.6322717564382956]|[u, suck, u, suck, u, suck, u, suck, ...|       1.0|\n",
      "| [0.3652737457947111,0.6347262542052889]|[go, fuck, sister, uneducated, hick, ...|       1.0|\n",
      "|[0.35928294280177714,0.6407170571982228]|[lick, scrotum, lick, scrotum, lick, ...|       1.0|\n",
      "|[0.35915949382861667,0.6408405061713833]|[cameron, scrub, cameron, scrub, came...|       1.0|\n",
      "| [0.3504213247686112,0.6495786752313888]|[nigger, nigger, nigger, nigger, nigg...|       1.0|\n",
      "|[0.34830524784821293,0.6516947521517871]|[sondra, rhinehart, sondra, rhinehart...|       1.0|\n",
      "|  [0.3407721237933529,0.659227876206647]|[bully, guy, motherfuckin, bully, shi...|       1.0|\n",
      "|[0.33951138082126314,0.6604886191787369]|[faggot, faggot, faggot, faggot, fagg...|       1.0|\n",
      "|[0.33829720741320296,0.6617027925867971]|[unblockniggers, nigger, nigger, nigg...|       1.0|\n",
      "| [0.3382418289856558,0.6617581710143443]|[worldwide, showbiz, stage, performan...|       1.0|\n",
      "+----------------------------------------+----------------------------------------+----------+\n",
      "only showing top 50 rows\n",
      "\n"
     ]
    }
   ],
   "source": [
    "from pyspark.ml.classification import LogisticRegressionModel\n",
    "\n",
    "load_lr_model = LogisticRegressionModel.load('models/lr-model') \n",
    "Predictions = load_lr_model.transform(testData) \n",
    "\n",
    "Predictions.filter(Predictions['prediction'] == 1) \\\n",
    "    .select(\"probability\",\"comment_text\",\"prediction\") \\\n",
    "    .orderBy(\"probability\", ascending=False) \\\n",
    "    .show(n = 50, truncate = 40)"
   ]
  },
  {
   "cell_type": "code",
   "execution_count": null,
   "metadata": {},
   "outputs": [],
   "source": []
  },
  {
   "cell_type": "code",
   "execution_count": null,
   "metadata": {},
   "outputs": [],
   "source": []
  },
  {
   "cell_type": "markdown",
   "metadata": {},
   "source": [
    "## dt"
   ]
  },
  {
   "cell_type": "code",
   "execution_count": 86,
   "metadata": {},
   "outputs": [
    {
     "name": "stdout",
     "output_type": "stream",
     "text": [
      "+----------------------------------------+----------------------------------------+----------+\n",
      "|                             probability|                            comment_text|prediction|\n",
      "+----------------------------------------+----------------------------------------+----------+\n",
      "| [0.3333333333333333,0.6666666666666666]|[creation, history, fuck, new, page, ...|       1.0|\n",
      "| [0.3333333333333333,0.6666666666666666]|[tushar, dam, invited, teahouse, styl...|       1.0|\n",
      "| [0.3333333333333333,0.6666666666666666]|[list, living, centenarian, hello, st...|       1.0|\n",
      "| [0.3333333333333333,0.6666666666666666]|[hello, utcursh, hi, thanks, ur, mess...|       1.0|\n",
      "| [0.3333333333333333,0.6666666666666666]|[obviously, got, concerned, past, pos...|       1.0|\n",
      "| [0.3333333333333333,0.6666666666666666]|[robot, filter, censored, error, repo...|       1.0|\n",
      "| [0.3333333333333333,0.6666666666666666]|[help, living, biography, good, day, ...|       1.0|\n",
      "| [0.3333333333333333,0.6666666666666666]|[dear, writing, address, general, com...|       1.0|\n",
      "| [0.3333333333333333,0.6666666666666666]|[classical, language, article, user, ...|       1.0|\n",
      "| [0.3333333333333333,0.6666666666666666]|[good, article, review, well, done, n...|       1.0|\n",
      "| [0.3333333333333333,0.6666666666666666]|[dude, last, wikipedia, edit, going, ...|       1.0|\n",
      "| [0.3333333333333333,0.6666666666666666]|[going, aug, cst, page, text, getting...|       1.0|\n",
      "| [0.3333333333333333,0.6666666666666666]|[seems, strange, debate, unborn, chil...|       1.0|\n",
      "| [0.3333333333333333,0.6666666666666666]|[indeed, worthy, topic, would, humbly...|       1.0|\n",
      "| [0.3333333333333333,0.6666666666666666]|[finding, fact, collect, editwarred, ...|       1.0|\n",
      "| [0.3333333333333333,0.6666666666666666]|[plus, legitimate, entry, removed, du...|       1.0|\n",
      "|[0.19886363636363635,0.8011363636363636]|[please, stop, stalking, edits, never...|       1.0|\n",
      "|[0.19886363636363635,0.8011363636363636]|[atwozee, bloody, gujjarkanjar, keep,...|       1.0|\n",
      "|[0.19886363636363635,0.8011363636363636]|[jeez, ed, seem, like, fucking, shitt...|       1.0|\n",
      "|[0.19886363636363635,0.8011363636363636]|[accosting, friendly, editor, baseles...|       1.0|\n",
      "|[0.19886363636363635,0.8011363636363636]|[assange, hope, somebody, put, bullet...|       1.0|\n",
      "|[0.19886363636363635,0.8011363636363636]|[yeah, right, dude, fucking, give, li...|       1.0|\n",
      "|[0.19886363636363635,0.8011363636363636]|[whole, wiki, misinformation, note, n...|       1.0|\n",
      "|[0.19886363636363635,0.8011363636363636]|[dude, get, fucking, clue, goth, dres...|       1.0|\n",
      "|[0.19886363636363635,0.8011363636363636]|[requested, move, march, toronto, tra...|       1.0|\n",
      "|[0.19886363636363635,0.8011363636363636]|[stop, already, sick, tired, annoying...|       1.0|\n",
      "|[0.19886363636363635,0.8011363636363636]|[suck, big, throbnbning, cock, right,...|       1.0|\n",
      "|[0.19886363636363635,0.8011363636363636]|[entire, section, sound, like, diary,...|       1.0|\n",
      "|[0.19886363636363635,0.8011363636363636]|[fucking, asshole, im, vandalizeing, ...|       1.0|\n",
      "|[0.19886363636363635,0.8011363636363636]|[well, honestly, cant, fucking, bothe...|       1.0|\n",
      "|[0.19886363636363635,0.8011363636363636]|[fucked, mum, cunt, fucking, loved, f...|       1.0|\n",
      "|[0.19886363636363635,0.8011363636363636]|[hate, eagle, since, made, comment, e...|       1.0|\n",
      "|[0.19886363636363635,0.8011363636363636]|[oh, dear, terrible, given, take, sec...|       1.0|\n",
      "|[0.19886363636363635,0.8011363636363636]|[fucking, kidding, tayquan, insinuate...|       1.0|\n",
      "|[0.19886363636363635,0.8011363636363636]|[boo, bullshit, seen, since, teenager...|       1.0|\n",
      "|[0.19886363636363635,0.8011363636363636]|[anon, agenda, curps, fucking, asshol...|       1.0|\n",
      "|[0.19886363636363635,0.8011363636363636]|[idiot, belgium, netherlands, hockey,...|       1.0|\n",
      "|[0.19886363636363635,0.8011363636363636]|[ridicolous, article, claimed, sexual...|       1.0|\n",
      "|[0.19886363636363635,0.8011363636363636]|[suppose, add, wp, conlimited, list, ...|       1.0|\n",
      "|[0.19886363636363635,0.8011363636363636]|                  [fucking, kidding, 琉竜]|       1.0|\n",
      "|[0.19886363636363635,0.8011363636363636]|[democrat, get, root, jeffersonian, d...|       1.0|\n",
      "|[0.19886363636363635,0.8011363636363636]|[threatening, block, reason, fucking,...|       1.0|\n",
      "|[0.19886363636363635,0.8011363636363636]|[justbeenpaid, editor, adding, inform...|       1.0|\n",
      "|[0.19886363636363635,0.8011363636363636]|[fucking, notability, bullshit, fucki...|       1.0|\n",
      "|[0.19886363636363635,0.8011363636363636]|[با, عرض, سلام, خدمت, رياست, جمهوري, ...|       1.0|\n",
      "|[0.19886363636363635,0.8011363636363636]|[year, germany, beginning, may, brazi...|       1.0|\n",
      "|[0.19886363636363635,0.8011363636363636]|[truth, linux, fanboys, fucking, wast...|       1.0|\n",
      "|[0.19886363636363635,0.8011363636363636]|[piece, shit, turn, vandal, best, fuc...|       1.0|\n",
      "|[0.19886363636363635,0.8011363636363636]|    [duck, discospinster, fucking, twat]|       1.0|\n",
      "|[0.19886363636363635,0.8011363636363636]|[attention, scum, lowest, form, life,...|       1.0|\n",
      "+----------------------------------------+----------------------------------------+----------+\n",
      "only showing top 50 rows\n",
      "\n"
     ]
    }
   ],
   "source": [
    "from pyspark.ml.classification import DecisionTreeClassificationModel\n",
    "\n",
    "load_dt_model = DecisionTreeClassificationModel.load('models/dt-model') \n",
    "Predictions = load_dt_model.transform(testData) \n",
    "\n",
    "Predictions.filter(Predictions['prediction'] == 1) \\\n",
    "    .select(\"probability\",\"comment_text\",\"prediction\") \\\n",
    "    .orderBy(\"probability\", ascending=False) \\\n",
    "    .show(n = 50, truncate = 40)"
   ]
  },
  {
   "cell_type": "code",
   "execution_count": null,
   "metadata": {},
   "outputs": [],
   "source": []
  },
  {
   "cell_type": "markdown",
   "metadata": {},
   "source": [
    "## nb"
   ]
  },
  {
   "cell_type": "code",
   "execution_count": 87,
   "metadata": {},
   "outputs": [
    {
     "name": "stdout",
     "output_type": "stream",
     "text": [
      "+----------------------------------------+----------------------------------------+----------+\n",
      "|                             probability|                            comment_text|prediction|\n",
      "+----------------------------------------+----------------------------------------+----------+\n",
      "|   [0.499990057660058,0.500009942339942]|[article, europop, word, start, capit...|       1.0|\n",
      "|[0.49997925978922575,0.5000207402107743]|[please, stop, recreating, silly, non...|       1.0|\n",
      "| [0.4999438850371558,0.5000561149628442]|                           [wow, forget]|       1.0|\n",
      "|[0.49975648894497193,0.5002435110550281]|                         [hi, new, site]|       1.0|\n",
      "| [0.4996578676404087,0.5003421323595914]|                           [obama, joke]|       1.0|\n",
      "| [0.4994630811108552,0.5005369188891448]|     [hello, fucker, hows, going, today]|       1.0|\n",
      "| [0.4994304901275791,0.5005695098724209]|[stop, deleting, edits, heshe, transe...|       1.0|\n",
      "|[0.49932139226049477,0.5006786077395052]|              [du, mieser, dreckschwanz]|       1.0|\n",
      "|[0.49903444349304915,0.5009655565069508]|[damn, moctezuma, one, crazyass, moth...|       1.0|\n",
      "| [0.4989174957382494,0.5010825042617506]|            [arrogant, rude, individual]|       1.0|\n",
      "| [0.4988275897724027,0.5011724102275973]|            [yes, look, like, mom, crap]|       1.0|\n",
      "|  [0.498816153183687,0.5011838468163131]|                  [fck, jon, gillibrand]|       1.0|\n",
      "|[0.49877533636796073,0.5012246636320393]|[last, president, worth, damn, hell, ...|       1.0|\n",
      "| [0.4985647153370979,0.5014352846629022]|           [talkback, samblob, userpage]|       1.0|\n",
      "|   [0.498134833060361,0.501865166939639]|[hi, spiderxd, go, http, type, articl...|       1.0|\n",
      "|[0.49812918104478887,0.5018708189552111]| [wikipedia, say, mine, adjective, mine]|       1.0|\n",
      "|[0.49792330818036606,0.5020766918196339]|[apology, little, brother, hacked, wi...|       1.0|\n",
      "| [0.4979067167974748,0.5020932832025252]|                [wat, yor, phonenummber]|       1.0|\n",
      "|[0.49763290845244984,0.5023670915475501]|[fixing, innacurate, history, moron, ...|       1.0|\n",
      "|   [0.497586325418954,0.502413674581046]|[vandal, someone, apparently, thought...|       1.0|\n",
      "|[0.49754674872156923,0.5024532512784308]|[standard, playboy, joke, standard, e...|       1.0|\n",
      "|[0.49748027848641724,0.5025197215135827]|[course, trans, woman, lesbian, trans...|       1.0|\n",
      "|[0.49738782191932174,0.5026121780806782]|[never, know, kind, doubt, released, ...|       1.0|\n",
      "|[0.49700560926140375,0.5029943907385963]|[keep, protesting, long, blocked, suc...|       1.0|\n",
      "| [0.4967443060734468,0.5032556939265532]|                            [sperm, cum]|       1.0|\n",
      "|[0.49667619087165554,0.5033238091283444]|[stop, talking, utter, shite, posting...|       1.0|\n",
      "| [0.4966600065463991,0.5033399934536009]|[see, eg, section, changed, red, grab...|       1.0|\n",
      "| [0.4965910234139389,0.5034089765860611]|[os, essa, muito, obrigado, e, força,...|       1.0|\n",
      "| [0.4963139499402642,0.5036860500597359]|[hayhayhayhayhyahyahyhayahyahyahayhay...|       1.0|\n",
      "| [0.4962664499039022,0.5037335500960978]|[flagged, nonsense, tone, perfect, wi...|       1.0|\n",
      "|[0.49622717458655097,0.5037728254134489]|                  [michael, innis, shit]|       1.0|\n",
      "| [0.4961298928920382,0.5038701071079619]|    [hi, im, blond, bimbo, blond, bimbo]|       1.0|\n",
      "| [0.4959746821389674,0.5040253178610326]|[happens, let, little, brother, frien...|       1.0|\n",
      "|     [0.49580768387207,0.50419231612793]|[earth, would, promote, piece, garbag...|       1.0|\n",
      "|[0.49569012748626035,0.5043098725137396]|[republican, heavyweight, john, cox, ...|       1.0|\n",
      "| [0.4955256719569641,0.5044743280430359]|[expect, apology, comment, based, evi...|       1.0|\n",
      "| [0.4953864115927283,0.5046135884072718]|                    [accused, vandalism]|       1.0|\n",
      "| [0.4953691982889904,0.5046308017110096]|[lot, people, fake, ip, address, time...|       1.0|\n",
      "|[0.49531482049943326,0.5046851795005667]|[let, block, jew, well, well, radiant...|       1.0|\n",
      "|[0.49528078494133543,0.5047192150586646]|[pe, toate, siteurile, arata, steagul...|       1.0|\n",
      "| [0.4950967818084314,0.5049032181915686]|[know, left, simple, respectful, requ...|       1.0|\n",
      "| [0.4948245440246868,0.5051754559753132]|[far, dug, stupid, question, alert, f...|       1.0|\n",
      "| [0.4948232452862647,0.5051767547137354]|                     [spirt, load, crap]|       1.0|\n",
      "| [0.49481735280368094,0.505182647196319]|       [one, call, dope, sheet, anymore]|       1.0|\n",
      "|[0.49481480585625154,0.5051851941437485]|[section, page, rename, page, browser...|       1.0|\n",
      "| [0.4945068716163987,0.5054931283836013]|[writes, bullshit, lock, article, hel...|       1.0|\n",
      "|[0.49441252053977114,0.5055874794602289]|[got, douched, one, cleeaaaaaan, vagina]|       1.0|\n",
      "|[0.49427392728170483,0.5057260727182952]|     [crazy, funky, doodle, mama, idiot]|       1.0|\n",
      "| [0.4941809725217305,0.5058190274782696]|              [jennifer, schooler, liar]|       1.0|\n",
      "|[0.49416272934581773,0.5058372706541823]|                     [want, leave, wife]|       1.0|\n",
      "+----------------------------------------+----------------------------------------+----------+\n",
      "only showing top 50 rows\n",
      "\n"
     ]
    }
   ],
   "source": [
    "from pyspark.ml.classification import NaiveBayesModel\n",
    "\n",
    "load_nb_model = NaiveBayesModel.load('models/nb-model') \n",
    "Predictions = load_nb_model.transform(testData) \n",
    "\n",
    "Predictions.filter(Predictions['prediction'] == 1) \\\n",
    "    .select(\"probability\",\"comment_text\",\"prediction\") \\\n",
    "    .orderBy(\"probability\", ascending=False) \\\n",
    "    .show(n = 50, truncate = 40)"
   ]
  },
  {
   "cell_type": "code",
   "execution_count": 88,
   "metadata": {},
   "outputs": [
    {
     "data": {
      "text/plain": [
       "[Row(probability='[4.515752350195426E-33,1.0]'),\n",
       " Row(probability='[0.9999995852939331,4.1470606702043055E-7]'),\n",
       " Row(probability='[0.9998817994274025,1.1820057259746486E-4]'),\n",
       " Row(probability='[0.9999999998491178,1.5088218002331627E-10]'),\n",
       " Row(probability='[0.9805452594517935,0.019454740548206517]'),\n",
       " Row(probability='[0.9999999984897419,1.510258120007907E-9]'),\n",
       " Row(probability='[0.9999999999775955,2.2404467895044735E-11]'),\n",
       " Row(probability='[0.5428896812795294,0.4571103187204707]'),\n",
       " Row(probability='[0.9999999999998426,1.5738403745516422E-13]'),\n",
       " Row(probability='[0.9999999999999998,1.2091414641713773E-16]')]"
      ]
     },
     "execution_count": 88,
     "metadata": {},
     "output_type": "execute_result"
    }
   ],
   "source": [
    "Predictions.select(Predictions.probability.cast('string')).take(10)\n"
   ]
  },
  {
   "cell_type": "code",
   "execution_count": 89,
   "metadata": {},
   "outputs": [
    {
     "data": {
      "text/plain": [
       "Column<b'CAST(probability AS STRING)'>"
      ]
     },
     "execution_count": 89,
     "metadata": {},
     "output_type": "execute_result"
    }
   ],
   "source": [
    "Predictions['probability'].cast('string')"
   ]
  },
  {
   "cell_type": "code",
   "execution_count": 90,
   "metadata": {},
   "outputs": [
    {
     "data": {
      "text/plain": [
       "Column<b'probability'>"
      ]
     },
     "execution_count": 90,
     "metadata": {},
     "output_type": "execute_result"
    }
   ],
   "source": [
    "pred = Predictions.probability\n",
    "pred"
   ]
  },
  {
   "cell_type": "code",
   "execution_count": null,
   "metadata": {},
   "outputs": [],
   "source": []
  },
  {
   "cell_type": "code",
   "execution_count": null,
   "metadata": {},
   "outputs": [],
   "source": []
  },
  {
   "cell_type": "code",
   "execution_count": 91,
   "metadata": {},
   "outputs": [],
   "source": [
    "df = Predictions.toPandas()"
   ]
  },
  {
   "cell_type": "code",
   "execution_count": 92,
   "metadata": {},
   "outputs": [
    {
     "data": {
      "text/html": [
       "<div>\n",
       "<style scoped>\n",
       "    .dataframe tbody tr th:only-of-type {\n",
       "        vertical-align: middle;\n",
       "    }\n",
       "\n",
       "    .dataframe tbody tr th {\n",
       "        vertical-align: top;\n",
       "    }\n",
       "\n",
       "    .dataframe thead th {\n",
       "        text-align: right;\n",
       "    }\n",
       "</style>\n",
       "<table border=\"1\" class=\"dataframe\">\n",
       "  <thead>\n",
       "    <tr style=\"text-align: right;\">\n",
       "      <th></th>\n",
       "      <th>id</th>\n",
       "      <th>comment_text</th>\n",
       "      <th>rawCommentText</th>\n",
       "      <th>features</th>\n",
       "      <th>rawPrediction</th>\n",
       "      <th>probability</th>\n",
       "      <th>prediction</th>\n",
       "    </tr>\n",
       "  </thead>\n",
       "  <tbody>\n",
       "    <tr>\n",
       "      <th>0</th>\n",
       "      <td>00001cee341fdb12</td>\n",
       "      <td>[yo, bitch, ja, rule, succesful, ever, whats, ...</td>\n",
       "      <td>(0.0, 0.0, 0.0, 1.0, 0.0, 0.0, 0.0, 0.0, 0.0, ...</td>\n",
       "      <td>(0.0, 0.0, 0.0, 5.182310097035273, 0.0, 0.0, 0...</td>\n",
       "      <td>[-1278.1944218687247, -1203.7166856063957]</td>\n",
       "      <td>[4.515752350195426e-33, 1.0]</td>\n",
       "      <td>1.0</td>\n",
       "    </tr>\n",
       "    <tr>\n",
       "      <th>1</th>\n",
       "      <td>0000247867823ef7</td>\n",
       "      <td>[rfc, title, fine, imo]</td>\n",
       "      <td>(0.0, 0.0, 0.0, 0.0, 0.0, 0.0, 0.0, 0.0, 0.0, ...</td>\n",
       "      <td>(0.0, 0.0, 0.0, 0.0, 0.0, 0.0, 0.0, 0.0, 0.0, ...</td>\n",
       "      <td>[-106.55935709326535, -121.25505251845811]</td>\n",
       "      <td>[0.9999995852939331, 4.1470606702043055e-07]</td>\n",
       "      <td>0.0</td>\n",
       "    </tr>\n",
       "    <tr>\n",
       "      <th>2</th>\n",
       "      <td>00013b17ad220c46</td>\n",
       "      <td>[source, zawe, ashton, lapland]</td>\n",
       "      <td>(0.0, 0.0, 0.0, 0.0, 0.0, 0.0, 0.0, 0.0, 0.0, ...</td>\n",
       "      <td>(0.0, 0.0, 0.0, 0.0, 0.0, 0.0, 0.0, 0.0, 0.0, ...</td>\n",
       "      <td>[-134.3841967966897, -143.4272061978247]</td>\n",
       "      <td>[0.9998817994274025, 0.00011820057259746486]</td>\n",
       "      <td>0.0</td>\n",
       "    </tr>\n",
       "    <tr>\n",
       "      <th>3</th>\n",
       "      <td>00017563c3f7919a</td>\n",
       "      <td>[look, back, source, information, updated, cor...</td>\n",
       "      <td>(0.0, 0.0, 0.0, 0.0, 0.0, 0.0, 0.0, 0.0, 0.0, ...</td>\n",
       "      <td>(0.0, 0.0, 0.0, 0.0, 0.0, 0.0, 0.0, 0.0, 0.0, ...</td>\n",
       "      <td>[-349.727295840228, -372.341817688502]</td>\n",
       "      <td>[0.9999999998491178, 1.5088218002331627e-10]</td>\n",
       "      <td>0.0</td>\n",
       "    </tr>\n",
       "    <tr>\n",
       "      <th>4</th>\n",
       "      <td>00017695ad8997eb</td>\n",
       "      <td>[nt, anonymously, edit, article]</td>\n",
       "      <td>(0.0, 0.0, 0.0, 0.0, 0.0, 0.0, 0.0, 0.0, 0.0, ...</td>\n",
       "      <td>(0.0, 0.0, 0.0, 0.0, 0.0, 0.0, 0.0, 0.0, 0.0, ...</td>\n",
       "      <td>[-62.06367842275167, -65.98369645653399]</td>\n",
       "      <td>[0.9805452594517935, 0.019454740548206517]</td>\n",
       "      <td>0.0</td>\n",
       "    </tr>\n",
       "    <tr>\n",
       "      <th>5</th>\n",
       "      <td>0001ea8717f6de06</td>\n",
       "      <td>[thank, understanding, think, highly, would, r...</td>\n",
       "      <td>(0.0, 0.0, 0.0, 0.0, 0.0, 0.0, 0.0, 0.0, 0.0, ...</td>\n",
       "      <td>(0.0, 0.0, 0.0, 0.0, 0.0, 0.0, 0.0, 0.0, 0.0, ...</td>\n",
       "      <td>[-173.68890023986253, -193.9998854986779]</td>\n",
       "      <td>[0.9999999984897419, 1.510258120007907e-09]</td>\n",
       "      <td>0.0</td>\n",
       "    </tr>\n",
       "    <tr>\n",
       "      <th>6</th>\n",
       "      <td>00024115d4cbde0f</td>\n",
       "      <td>[please, add, nonsense, wikipedia, edits, cons...</td>\n",
       "      <td>(0.0, 0.0, 0.0, 0.0, 0.0, 0.0, 0.0, 0.0, 0.0, ...</td>\n",
       "      <td>(0.0, 0.0, 0.0, 0.0, 0.0, 0.0, 0.0, 0.0, 0.0, ...</td>\n",
       "      <td>[-321.8753557642494, -346.39711648158374]</td>\n",
       "      <td>[0.9999999999775955, 2.2404467895044735e-11]</td>\n",
       "      <td>0.0</td>\n",
       "    </tr>\n",
       "    <tr>\n",
       "      <th>7</th>\n",
       "      <td>000247e83dcc1211</td>\n",
       "      <td>[dear, god, site, horrible]</td>\n",
       "      <td>(0.0, 0.0, 0.0, 0.0, 0.0, 0.0, 0.0, 0.0, 0.0, ...</td>\n",
       "      <td>(0.0, 0.0, 0.0, 0.0, 0.0, 0.0, 0.0, 0.0, 0.0, ...</td>\n",
       "      <td>[-113.43397145753094, -113.60595283219268]</td>\n",
       "      <td>[0.5428896812795294, 0.4571103187204707]</td>\n",
       "      <td>0.0</td>\n",
       "    </tr>\n",
       "    <tr>\n",
       "      <th>8</th>\n",
       "      <td>00025358d4737918</td>\n",
       "      <td>[fool, believe, number, correct, number, lie, ...</td>\n",
       "      <td>(0.0, 0.0, 0.0, 0.0, 0.0, 0.0, 0.0, 0.0, 0.0, ...</td>\n",
       "      <td>(0.0, 0.0, 0.0, 0.0, 0.0, 0.0, 0.0, 0.0, 0.0, ...</td>\n",
       "      <td>[-1235.419255904756, -1264.8993433827068]</td>\n",
       "      <td>[0.9999999999998426, 1.5738403745516422e-13]</td>\n",
       "      <td>0.0</td>\n",
       "    </tr>\n",
       "    <tr>\n",
       "      <th>9</th>\n",
       "      <td>00026d1092fe71cc</td>\n",
       "      <td>[double, redirects, fixing, double, redirects,...</td>\n",
       "      <td>(0.0, 0.0, 0.0, 0.0, 0.0, 0.0, 0.0, 0.0, 0.0, ...</td>\n",
       "      <td>(0.0, 0.0, 0.0, 0.0, 0.0, 0.0, 0.0, 0.0, 0.0, ...</td>\n",
       "      <td>[-602.3017340296163, -638.9531849434933]</td>\n",
       "      <td>[0.9999999999999998, 1.2091414641713773e-16]</td>\n",
       "      <td>0.0</td>\n",
       "    </tr>\n",
       "  </tbody>\n",
       "</table>\n",
       "</div>"
      ],
      "text/plain": [
       "                 id                                       comment_text  \\\n",
       "0  00001cee341fdb12  [yo, bitch, ja, rule, succesful, ever, whats, ...   \n",
       "1  0000247867823ef7                            [rfc, title, fine, imo]   \n",
       "2  00013b17ad220c46                    [source, zawe, ashton, lapland]   \n",
       "3  00017563c3f7919a  [look, back, source, information, updated, cor...   \n",
       "4  00017695ad8997eb                   [nt, anonymously, edit, article]   \n",
       "5  0001ea8717f6de06  [thank, understanding, think, highly, would, r...   \n",
       "6  00024115d4cbde0f  [please, add, nonsense, wikipedia, edits, cons...   \n",
       "7  000247e83dcc1211                        [dear, god, site, horrible]   \n",
       "8  00025358d4737918  [fool, believe, number, correct, number, lie, ...   \n",
       "9  00026d1092fe71cc  [double, redirects, fixing, double, redirects,...   \n",
       "\n",
       "                                      rawCommentText  \\\n",
       "0  (0.0, 0.0, 0.0, 1.0, 0.0, 0.0, 0.0, 0.0, 0.0, ...   \n",
       "1  (0.0, 0.0, 0.0, 0.0, 0.0, 0.0, 0.0, 0.0, 0.0, ...   \n",
       "2  (0.0, 0.0, 0.0, 0.0, 0.0, 0.0, 0.0, 0.0, 0.0, ...   \n",
       "3  (0.0, 0.0, 0.0, 0.0, 0.0, 0.0, 0.0, 0.0, 0.0, ...   \n",
       "4  (0.0, 0.0, 0.0, 0.0, 0.0, 0.0, 0.0, 0.0, 0.0, ...   \n",
       "5  (0.0, 0.0, 0.0, 0.0, 0.0, 0.0, 0.0, 0.0, 0.0, ...   \n",
       "6  (0.0, 0.0, 0.0, 0.0, 0.0, 0.0, 0.0, 0.0, 0.0, ...   \n",
       "7  (0.0, 0.0, 0.0, 0.0, 0.0, 0.0, 0.0, 0.0, 0.0, ...   \n",
       "8  (0.0, 0.0, 0.0, 0.0, 0.0, 0.0, 0.0, 0.0, 0.0, ...   \n",
       "9  (0.0, 0.0, 0.0, 0.0, 0.0, 0.0, 0.0, 0.0, 0.0, ...   \n",
       "\n",
       "                                            features  \\\n",
       "0  (0.0, 0.0, 0.0, 5.182310097035273, 0.0, 0.0, 0...   \n",
       "1  (0.0, 0.0, 0.0, 0.0, 0.0, 0.0, 0.0, 0.0, 0.0, ...   \n",
       "2  (0.0, 0.0, 0.0, 0.0, 0.0, 0.0, 0.0, 0.0, 0.0, ...   \n",
       "3  (0.0, 0.0, 0.0, 0.0, 0.0, 0.0, 0.0, 0.0, 0.0, ...   \n",
       "4  (0.0, 0.0, 0.0, 0.0, 0.0, 0.0, 0.0, 0.0, 0.0, ...   \n",
       "5  (0.0, 0.0, 0.0, 0.0, 0.0, 0.0, 0.0, 0.0, 0.0, ...   \n",
       "6  (0.0, 0.0, 0.0, 0.0, 0.0, 0.0, 0.0, 0.0, 0.0, ...   \n",
       "7  (0.0, 0.0, 0.0, 0.0, 0.0, 0.0, 0.0, 0.0, 0.0, ...   \n",
       "8  (0.0, 0.0, 0.0, 0.0, 0.0, 0.0, 0.0, 0.0, 0.0, ...   \n",
       "9  (0.0, 0.0, 0.0, 0.0, 0.0, 0.0, 0.0, 0.0, 0.0, ...   \n",
       "\n",
       "                                rawPrediction  \\\n",
       "0  [-1278.1944218687247, -1203.7166856063957]   \n",
       "1  [-106.55935709326535, -121.25505251845811]   \n",
       "2    [-134.3841967966897, -143.4272061978247]   \n",
       "3      [-349.727295840228, -372.341817688502]   \n",
       "4    [-62.06367842275167, -65.98369645653399]   \n",
       "5   [-173.68890023986253, -193.9998854986779]   \n",
       "6   [-321.8753557642494, -346.39711648158374]   \n",
       "7  [-113.43397145753094, -113.60595283219268]   \n",
       "8   [-1235.419255904756, -1264.8993433827068]   \n",
       "9    [-602.3017340296163, -638.9531849434933]   \n",
       "\n",
       "                                    probability  prediction  \n",
       "0                  [4.515752350195426e-33, 1.0]         1.0  \n",
       "1  [0.9999995852939331, 4.1470606702043055e-07]         0.0  \n",
       "2  [0.9998817994274025, 0.00011820057259746486]         0.0  \n",
       "3  [0.9999999998491178, 1.5088218002331627e-10]         0.0  \n",
       "4    [0.9805452594517935, 0.019454740548206517]         0.0  \n",
       "5   [0.9999999984897419, 1.510258120007907e-09]         0.0  \n",
       "6  [0.9999999999775955, 2.2404467895044735e-11]         0.0  \n",
       "7      [0.5428896812795294, 0.4571103187204707]         0.0  \n",
       "8  [0.9999999999998426, 1.5738403745516422e-13]         0.0  \n",
       "9  [0.9999999999999998, 1.2091414641713773e-16]         0.0  "
      ]
     },
     "execution_count": 92,
     "metadata": {},
     "output_type": "execute_result"
    }
   ],
   "source": [
    "df.head(10)"
   ]
  },
  {
   "cell_type": "code",
   "execution_count": 104,
   "metadata": {},
   "outputs": [
    {
     "data": {
      "text/plain": [
       "numpy.float64"
      ]
     },
     "execution_count": 104,
     "metadata": {},
     "output_type": "execute_result"
    }
   ],
   "source": [
    "type(tuple(df['probability'])[0].toArray()[0])"
   ]
  },
  {
   "cell_type": "code",
   "execution_count": 114,
   "metadata": {},
   "outputs": [
    {
     "data": {
      "text/plain": [
       "4.515752350195426e-33"
      ]
     },
     "execution_count": 114,
     "metadata": {},
     "output_type": "execute_result"
    }
   ],
   "source": [
    "tuple(df['probability'])[0].toArray()[0]"
   ]
  },
  {
   "cell_type": "code",
   "execution_count": 112,
   "metadata": {},
   "outputs": [
    {
     "data": {
      "text/plain": [
       "array([[0.        , 1.        ],\n",
       "       [0.99999959, 0.00000041],\n",
       "       [0.9998818 , 0.0001182 ],\n",
       "       ...,\n",
       "       [1.        , 0.        ],\n",
       "       [1.        , 0.        ],\n",
       "       [0.00000468, 0.99999532]])"
      ]
     },
     "execution_count": 112,
     "metadata": {},
     "output_type": "execute_result"
    }
   ],
   "source": [
    "np.array(tuple(df['probability'])[0:])"
   ]
  },
  {
   "cell_type": "code",
   "execution_count": null,
   "metadata": {},
   "outputs": [],
   "source": []
  },
  {
   "cell_type": "code",
   "execution_count": null,
   "metadata": {},
   "outputs": [],
   "source": []
  },
  {
   "cell_type": "code",
   "execution_count": null,
   "metadata": {},
   "outputs": [],
   "source": []
  },
  {
   "cell_type": "code",
   "execution_count": 95,
   "metadata": {},
   "outputs": [],
   "source": [
    "subm = pd.read_csv('data/sample_submission.csv')"
   ]
  },
  {
   "cell_type": "code",
   "execution_count": 96,
   "metadata": {},
   "outputs": [
    {
     "data": {
      "text/html": [
       "<div>\n",
       "<style scoped>\n",
       "    .dataframe tbody tr th:only-of-type {\n",
       "        vertical-align: middle;\n",
       "    }\n",
       "\n",
       "    .dataframe tbody tr th {\n",
       "        vertical-align: top;\n",
       "    }\n",
       "\n",
       "    .dataframe thead th {\n",
       "        text-align: right;\n",
       "    }\n",
       "</style>\n",
       "<table border=\"1\" class=\"dataframe\">\n",
       "  <thead>\n",
       "    <tr style=\"text-align: right;\">\n",
       "      <th></th>\n",
       "      <th>id</th>\n",
       "      <th>toxic</th>\n",
       "      <th>severe_toxic</th>\n",
       "      <th>obscene</th>\n",
       "      <th>threat</th>\n",
       "      <th>insult</th>\n",
       "      <th>identity_hate</th>\n",
       "    </tr>\n",
       "  </thead>\n",
       "  <tbody>\n",
       "    <tr>\n",
       "      <th>0</th>\n",
       "      <td>00001cee341fdb12</td>\n",
       "      <td>0.5</td>\n",
       "      <td>0.5</td>\n",
       "      <td>0.5</td>\n",
       "      <td>0.5</td>\n",
       "      <td>0.5</td>\n",
       "      <td>0.5</td>\n",
       "    </tr>\n",
       "    <tr>\n",
       "      <th>1</th>\n",
       "      <td>0000247867823ef7</td>\n",
       "      <td>0.5</td>\n",
       "      <td>0.5</td>\n",
       "      <td>0.5</td>\n",
       "      <td>0.5</td>\n",
       "      <td>0.5</td>\n",
       "      <td>0.5</td>\n",
       "    </tr>\n",
       "    <tr>\n",
       "      <th>2</th>\n",
       "      <td>00013b17ad220c46</td>\n",
       "      <td>0.5</td>\n",
       "      <td>0.5</td>\n",
       "      <td>0.5</td>\n",
       "      <td>0.5</td>\n",
       "      <td>0.5</td>\n",
       "      <td>0.5</td>\n",
       "    </tr>\n",
       "    <tr>\n",
       "      <th>3</th>\n",
       "      <td>00017563c3f7919a</td>\n",
       "      <td>0.5</td>\n",
       "      <td>0.5</td>\n",
       "      <td>0.5</td>\n",
       "      <td>0.5</td>\n",
       "      <td>0.5</td>\n",
       "      <td>0.5</td>\n",
       "    </tr>\n",
       "    <tr>\n",
       "      <th>4</th>\n",
       "      <td>00017695ad8997eb</td>\n",
       "      <td>0.5</td>\n",
       "      <td>0.5</td>\n",
       "      <td>0.5</td>\n",
       "      <td>0.5</td>\n",
       "      <td>0.5</td>\n",
       "      <td>0.5</td>\n",
       "    </tr>\n",
       "  </tbody>\n",
       "</table>\n",
       "</div>"
      ],
      "text/plain": [
       "                 id  toxic  severe_toxic  obscene  threat  insult  \\\n",
       "0  00001cee341fdb12    0.5           0.5      0.5     0.5     0.5   \n",
       "1  0000247867823ef7    0.5           0.5      0.5     0.5     0.5   \n",
       "2  00013b17ad220c46    0.5           0.5      0.5     0.5     0.5   \n",
       "3  00017563c3f7919a    0.5           0.5      0.5     0.5     0.5   \n",
       "4  00017695ad8997eb    0.5           0.5      0.5     0.5     0.5   \n",
       "\n",
       "   identity_hate  \n",
       "0            0.5  \n",
       "1            0.5  \n",
       "2            0.5  \n",
       "3            0.5  \n",
       "4            0.5  "
      ]
     },
     "execution_count": 96,
     "metadata": {},
     "output_type": "execute_result"
    }
   ],
   "source": [
    "subm.head()"
   ]
  },
  {
   "cell_type": "code",
   "execution_count": null,
   "metadata": {},
   "outputs": [],
   "source": []
  }
 ],
 "metadata": {
  "kernelspec": {
   "display_name": "Python 3",
   "language": "python",
   "name": "python3"
  },
  "language_info": {
   "codemirror_mode": {
    "name": "ipython",
    "version": 3
   },
   "file_extension": ".py",
   "mimetype": "text/x-python",
   "name": "python",
   "nbconvert_exporter": "python",
   "pygments_lexer": "ipython3",
   "version": "3.7.0"
  }
 },
 "nbformat": 4,
 "nbformat_minor": 2
}
