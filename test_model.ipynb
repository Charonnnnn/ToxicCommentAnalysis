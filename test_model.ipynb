{
 "cells": [
  {
   "cell_type": "code",
   "execution_count": 5,
   "metadata": {},
   "outputs": [],
   "source": [
    "from pyspark import SparkConf, SparkContext\n",
    "from pyspark.sql import SparkSession\n",
    "\n",
    "spark = SparkSession.builder.master(\"local[6]\") \\\n",
    "   .appName(\"test\") \\\n",
    "   .enableHiveSupport() \\\n",
    "   .getOrCreate()\n",
    "\n",
    "sc = spark.sparkContext\n",
    "# https://blog.csdn.net/wsp_1138886114/article/details/80634890?utm_source=blogxgwz0#step-3-%E5%88%9B%E5%BB%BApipline%E5%AE%9E%E4%BE%8B%E5%AF%B9%E8%B1%A1%E8%AE%AD%E7%BB%83%E6%A8%A1%E5%9E%8B%E4%B8%8E%E9%A2%84%E6%B5%8B"
   ]
  },
  {
   "cell_type": "code",
   "execution_count": 6,
   "metadata": {},
   "outputs": [],
   "source": [
    "import numpy as np\n",
    "import pandas as pd\n",
    "test = pd.read_csv('data/test.csv')"
   ]
  },
  {
   "cell_type": "code",
   "execution_count": 7,
   "metadata": {},
   "outputs": [
    {
     "data": {
      "text/html": [
       "<div>\n",
       "<style scoped>\n",
       "    .dataframe tbody tr th:only-of-type {\n",
       "        vertical-align: middle;\n",
       "    }\n",
       "\n",
       "    .dataframe tbody tr th {\n",
       "        vertical-align: top;\n",
       "    }\n",
       "\n",
       "    .dataframe thead th {\n",
       "        text-align: right;\n",
       "    }\n",
       "</style>\n",
       "<table border=\"1\" class=\"dataframe\">\n",
       "  <thead>\n",
       "    <tr style=\"text-align: right;\">\n",
       "      <th></th>\n",
       "      <th>id</th>\n",
       "      <th>comment_text</th>\n",
       "    </tr>\n",
       "  </thead>\n",
       "  <tbody>\n",
       "    <tr>\n",
       "      <th>0</th>\n",
       "      <td>00001cee341fdb12</td>\n",
       "      <td>Yo bitch Ja Rule is more succesful then you'll...</td>\n",
       "    </tr>\n",
       "    <tr>\n",
       "      <th>1</th>\n",
       "      <td>0000247867823ef7</td>\n",
       "      <td>== From RfC == \\n\\n The title is fine as it is...</td>\n",
       "    </tr>\n",
       "    <tr>\n",
       "      <th>2</th>\n",
       "      <td>00013b17ad220c46</td>\n",
       "      <td>\" \\n\\n == Sources == \\n\\n * Zawe Ashton on Lap...</td>\n",
       "    </tr>\n",
       "    <tr>\n",
       "      <th>3</th>\n",
       "      <td>00017563c3f7919a</td>\n",
       "      <td>:If you have a look back at the source, the in...</td>\n",
       "    </tr>\n",
       "    <tr>\n",
       "      <th>4</th>\n",
       "      <td>00017695ad8997eb</td>\n",
       "      <td>I don't anonymously edit articles at all.</td>\n",
       "    </tr>\n",
       "  </tbody>\n",
       "</table>\n",
       "</div>"
      ],
      "text/plain": [
       "                 id                                       comment_text\n",
       "0  00001cee341fdb12  Yo bitch Ja Rule is more succesful then you'll...\n",
       "1  0000247867823ef7  == From RfC == \\n\\n The title is fine as it is...\n",
       "2  00013b17ad220c46  \" \\n\\n == Sources == \\n\\n * Zawe Ashton on Lap...\n",
       "3  00017563c3f7919a  :If you have a look back at the source, the in...\n",
       "4  00017695ad8997eb          I don't anonymously edit articles at all."
      ]
     },
     "execution_count": 7,
     "metadata": {},
     "output_type": "execute_result"
    }
   ],
   "source": [
    "test.head()"
   ]
  },
  {
   "cell_type": "code",
   "execution_count": 8,
   "metadata": {},
   "outputs": [
    {
     "data": {
      "text/html": [
       "<div>\n",
       "<style scoped>\n",
       "    .dataframe tbody tr th:only-of-type {\n",
       "        vertical-align: middle;\n",
       "    }\n",
       "\n",
       "    .dataframe tbody tr th {\n",
       "        vertical-align: top;\n",
       "    }\n",
       "\n",
       "    .dataframe thead th {\n",
       "        text-align: right;\n",
       "    }\n",
       "</style>\n",
       "<table border=\"1\" class=\"dataframe\">\n",
       "  <thead>\n",
       "    <tr style=\"text-align: right;\">\n",
       "      <th></th>\n",
       "      <th>test</th>\n",
       "    </tr>\n",
       "  </thead>\n",
       "  <tbody>\n",
       "    <tr>\n",
       "      <th>id</th>\n",
       "      <td>0</td>\n",
       "    </tr>\n",
       "    <tr>\n",
       "      <th>comment_text</th>\n",
       "      <td>0</td>\n",
       "    </tr>\n",
       "  </tbody>\n",
       "</table>\n",
       "</div>"
      ],
      "text/plain": [
       "              test\n",
       "id               0\n",
       "comment_text     0"
      ]
     },
     "execution_count": 8,
     "metadata": {},
     "output_type": "execute_result"
    }
   ],
   "source": [
    "k = pd.DataFrame()\n",
    "k['test'] = test.isnull().sum()\n",
    "k"
   ]
  },
  {
   "cell_type": "code",
   "execution_count": 9,
   "metadata": {},
   "outputs": [],
   "source": [
    "import string\n",
    "from nltk.corpus import stopwords\n",
    "from nltk.tokenize import word_tokenize\n",
    "from nltk.stem.porter import PorterStemmer\n",
    "from nltk.stem import WordNetLemmatizer\n",
    "\n",
    "# print(string.punctuation)\n",
    "def mytoken_lemm(text):\n",
    "    tokens = word_tokenize(text)\n",
    "    tokens = [w.lower() for w in tokens]\n",
    "    table = str.maketrans('', '', string.punctuation)\n",
    "    stripped = [w.translate(table) for w in tokens]\n",
    "    words = [word for word in stripped if word.isalpha()]\n",
    "    stop_words = set(stopwords.words('english'))\n",
    "    words = [w for w in words if not w in stop_words]\n",
    "    lemms = []\n",
    "    for item in words:\n",
    "        lemms.append(WordNetLemmatizer().lemmatize(item))\n",
    "    return lemms"
   ]
  },
  {
   "cell_type": "code",
   "execution_count": 10,
   "metadata": {},
   "outputs": [],
   "source": [
    "test['comment_text'] = test['comment_text'].map(lambda com : mytoken_lemm(com))"
   ]
  },
  {
   "cell_type": "code",
   "execution_count": 11,
   "metadata": {},
   "outputs": [
    {
     "data": {
      "text/html": [
       "<div>\n",
       "<style scoped>\n",
       "    .dataframe tbody tr th:only-of-type {\n",
       "        vertical-align: middle;\n",
       "    }\n",
       "\n",
       "    .dataframe tbody tr th {\n",
       "        vertical-align: top;\n",
       "    }\n",
       "\n",
       "    .dataframe thead th {\n",
       "        text-align: right;\n",
       "    }\n",
       "</style>\n",
       "<table border=\"1\" class=\"dataframe\">\n",
       "  <thead>\n",
       "    <tr style=\"text-align: right;\">\n",
       "      <th></th>\n",
       "      <th>id</th>\n",
       "      <th>comment_text</th>\n",
       "    </tr>\n",
       "  </thead>\n",
       "  <tbody>\n",
       "    <tr>\n",
       "      <th>0</th>\n",
       "      <td>00001cee341fdb12</td>\n",
       "      <td>[yo, bitch, ja, rule, succesful, ever, whats, ...</td>\n",
       "    </tr>\n",
       "    <tr>\n",
       "      <th>1</th>\n",
       "      <td>0000247867823ef7</td>\n",
       "      <td>[rfc, title, fine, imo]</td>\n",
       "    </tr>\n",
       "    <tr>\n",
       "      <th>2</th>\n",
       "      <td>00013b17ad220c46</td>\n",
       "      <td>[source, zawe, ashton, lapland]</td>\n",
       "    </tr>\n",
       "    <tr>\n",
       "      <th>3</th>\n",
       "      <td>00017563c3f7919a</td>\n",
       "      <td>[look, back, source, information, updated, cor...</td>\n",
       "    </tr>\n",
       "    <tr>\n",
       "      <th>4</th>\n",
       "      <td>00017695ad8997eb</td>\n",
       "      <td>[nt, anonymously, edit, article]</td>\n",
       "    </tr>\n",
       "  </tbody>\n",
       "</table>\n",
       "</div>"
      ],
      "text/plain": [
       "                 id                                       comment_text\n",
       "0  00001cee341fdb12  [yo, bitch, ja, rule, succesful, ever, whats, ...\n",
       "1  0000247867823ef7                            [rfc, title, fine, imo]\n",
       "2  00013b17ad220c46                    [source, zawe, ashton, lapland]\n",
       "3  00017563c3f7919a  [look, back, source, information, updated, cor...\n",
       "4  00017695ad8997eb                   [nt, anonymously, edit, article]"
      ]
     },
     "execution_count": 11,
     "metadata": {},
     "output_type": "execute_result"
    }
   ],
   "source": [
    "test.head()"
   ]
  },
  {
   "cell_type": "code",
   "execution_count": 12,
   "metadata": {},
   "outputs": [],
   "source": [
    "test_df = spark.createDataFrame(test)"
   ]
  },
  {
   "cell_type": "code",
   "execution_count": 13,
   "metadata": {},
   "outputs": [
    {
     "data": {
      "text/plain": [
       "[('id', 'string'), ('comment_text', 'array<string>')]"
      ]
     },
     "execution_count": 13,
     "metadata": {},
     "output_type": "execute_result"
    }
   ],
   "source": [
    "test_df.dtypes"
   ]
  },
  {
   "cell_type": "code",
   "execution_count": 14,
   "metadata": {},
   "outputs": [],
   "source": [
    "from pyspark.ml.pipeline import PipelineModel\n",
    "load_pipeline_model = PipelineModel.load('models/tfidf-model') \n",
    "testData = load_pipeline_model.transform(test_df) "
   ]
  },
  {
   "cell_type": "code",
   "execution_count": 15,
   "metadata": {},
   "outputs": [
    {
     "name": "stdout",
     "output_type": "stream",
     "text": [
      "root\n",
      " |-- id: string (nullable = true)\n",
      " |-- comment_text: array (nullable = true)\n",
      " |    |-- element: string (containsNull = true)\n",
      " |-- rawCommentText: vector (nullable = true)\n",
      " |-- features: vector (nullable = true)\n",
      "\n"
     ]
    }
   ],
   "source": [
    "testData.printSchema()"
   ]
  },
  {
   "cell_type": "markdown",
   "metadata": {},
   "source": [
    "## lr"
   ]
  },
  {
   "cell_type": "code",
   "execution_count": 22,
   "metadata": {},
   "outputs": [
    {
     "name": "stdout",
     "output_type": "stream",
     "text": [
      "+----------------------------------------+----------------------------------------+----------+\n",
      "|                             probability|                            comment_text|prediction|\n",
      "+----------------------------------------+----------------------------------------+----------+\n",
      "|   [0.495836253089306,0.504163746910694]|[u, suck, u, suck, u, suck, u, suck, ...|       1.0|\n",
      "|[0.49027255230167344,0.5097274476983265]|[butt, butt, butt, butt, butt, butt, ...|       1.0|\n",
      "|[0.48976199147517124,0.5102380085248287]|[lyric, section, need, work, section,...|       1.0|\n",
      "| [0.4884819452745575,0.5115180547254424]|[wikipedia, bunch, cunt, wikipedia, b...|       1.0|\n",
      "| [0.4837297278890358,0.5162702721109642]|[fuck, mother, fucker, fuck, mother, ...|       1.0|\n",
      "|[0.47780224837969665,0.5221977516203034]|[yo, asshole, come, lick, hairy, ball...|       1.0|\n",
      "|[0.46613326636937763,0.5338667336306223]|[hate, hate, hate, hate, hate, hate, ...|       1.0|\n",
      "| [0.4573358576352428,0.5426641423647571]|[dord, dord, suck, cock, cock, cock, ...|       1.0|\n",
      "|[0.45597423589912517,0.5440257641008749]|[lancashire, cotton, photograph, conv...|       1.0|\n",
      "|[0.45318259093854546,0.5468174090614545]|[tezza, rule, railpage, suck, doodle,...|       1.0|\n",
      "| [0.4530361588988271,0.5469638411011729]|[lick, scrotum, lick, scrotum, lick, ...|       1.0|\n",
      "|[0.44812539544973123,0.5518746045502688]|[fuck, serbia, fuck, serbia, kosova, ...|       1.0|\n",
      "| [0.44804374902271304,0.551956250977287]|[hahahaha, noone, kares, minecraft, m...|       1.0|\n",
      "| [0.4478557797025852,0.5521442202974148]|[penis, penis, penis, penis, penis, p...|       1.0|\n",
      "| [0.4430955014731331,0.5569044985268669]|[fucker, forever, block, fucker, fore...|       1.0|\n",
      "| [0.4426786999497641,0.5573213000502358]|[wikipedia, serious, fucking, busines...|       1.0|\n",
      "| [0.4403347148378844,0.5596652851621156]|[stop, messing, let, edit, user, page...|       1.0|\n",
      "| [0.4387792451365206,0.5612207548634793]|[kelapstick, penis, kelapstick, penis...|       1.0|\n",
      "|[0.43692735250974457,0.5630726474902553]|[bully, guy, motherfuckin, bully, shi...|       1.0|\n",
      "|[0.43180023334183903,0.5681997666581609]|[fag, gay, faggot, gay, faggot, gay, ...|       1.0|\n",
      "|[0.43168630586800777,0.5683136941319922]|[large, ball, large, ball, large, bal...|       1.0|\n",
      "|[0.42966984643772255,0.5703301535622773]|[mr, better, u, guy, yer, last, time,...|       1.0|\n",
      "| [0.4292682528041891,0.5707317471958109]|[poem, wrote, lady, pop, pussy, like,...|       1.0|\n",
      "|[0.42508932315813447,0.5749106768418656]|[going, rip, tiny, ball, decapitate, ...|       1.0|\n",
      "| [0.4249444038825401,0.5750555961174598]|[oscarthecat, fucking, faggot, die, k...|       1.0|\n",
      "| [0.4236965321695528,0.5763034678304472]|[madyou, madyou, madyou, madyou, mady...|       1.0|\n",
      "|  [0.412453993637423,0.5875460063625769]|[petersymonds, homopetersymonds, homo...|       1.0|\n",
      "| [0.4118704133366687,0.5881295866633313]|[gilliam, fat, gay, wikipedogilliam, ...|       1.0|\n",
      "|[0.41077627414947376,0.5892237258505262]|[bitch, bitch, bitch, bitch, bitch, b...|       1.0|\n",
      "|[0.40874273847362885,0.5912572615263711]|[u, r, ag, fag, fag, fag, fag, fag, f...|       1.0|\n",
      "| [0.40523676862254493,0.594763231377455]|[kelapstick, penis, kelapstick, penis...|       1.0|\n",
      "| [0.3965728422452617,0.6034271577547383]|[nigga, nigga, nigga, nigga, nigga, n...|       1.0|\n",
      "| [0.3925225481153704,0.6074774518846296]|[cunt, twat, bummer, want, lick, cunt...|       1.0|\n",
      "|[0.39075215655314033,0.6092478434468596]|[fuck, fuck, fuck, fuck, fuck, fuck, ...|       1.0|\n",
      "|[0.38658493631846347,0.6134150636815365]|[gayer, circus, elephant, nut, sack, ...|       1.0|\n",
      "| [0.38150737860971196,0.618492621390288]|[fuck, wikipedia, fuck, wikipedia, fu...|       1.0|\n",
      "|[0.37990119505572323,0.6200988049442767]|[dong, dong, dong, dong, dong, dong, ...|       1.0|\n",
      "|[0.37642553247543786,0.6235744675245622]|[poop, poop, poop, poop, poop, poop, ...|       1.0|\n",
      "| [0.3726535547273186,0.6273464452726815]|[gayer, circus, elephant, nut, sack, ...|       1.0|\n",
      "|[0.37157169073210833,0.6284283092678916]|[penis, penis, penis, penis, penis, p...|       1.0|\n",
      "| [0.3699790923345133,0.6300209076654867]|[benon, benon, night, fucking, curps,...|       1.0|\n",
      "| [0.3666637481812405,0.6333362518187595]|[penis, penis, penis, penis, penis, p...|       1.0|\n",
      "|[0.36601415885311656,0.6339858411468834]|[suggestion, azaz, v, az, v, nig, era...|       1.0|\n",
      "|[0.36401235398212584,0.6359876460178742]|[rotten, penis, amortias, tiptoety, c...|       1.0|\n",
      "|[0.36087806886141677,0.6391219311385832]|[fuck, fuck, fuck, fuck, fuck, fuck, ...|       1.0|\n",
      "|[0.36006341201664044,0.6399365879833596]|[usa, suck, usa, suck, usa, suck, usa...|       1.0|\n",
      "|[0.35605106337919695,0.6439489366208031]|[terje, hauge, bastard, fucked, mom, ...|       1.0|\n",
      "| [0.3483617912607641,0.6516382087392358]|[cameron, scrub, cameron, scrub, came...|       1.0|\n",
      "|[0.34718184951170955,0.6528181504882904]|[oh, fuck, get, make, personal, attac...|       1.0|\n",
      "| [0.3312519259147221,0.6687480740852779]|[retarded, retarded, retarded, retard...|       1.0|\n",
      "+----------------------------------------+----------------------------------------+----------+\n",
      "only showing top 50 rows\n",
      "\n"
     ]
    }
   ],
   "source": [
    "from pyspark.ml.classification import LogisticRegressionModel\n",
    "\n",
    "load_lr_model = LogisticRegressionModel.load('models/lr-model') \n",
    "Predictions = load_lr_model.transform(testData) \n",
    "\n",
    "Predictions.filter(Predictions['prediction'] == 1) \\\n",
    "    .select(\"probability\",\"comment_text\",\"prediction\") \\\n",
    "    .orderBy(\"probability\", ascending=False) \\\n",
    "    .show(n = 50, truncate = 40)"
   ]
  },
  {
   "cell_type": "code",
   "execution_count": null,
   "metadata": {},
   "outputs": [],
   "source": []
  },
  {
   "cell_type": "code",
   "execution_count": null,
   "metadata": {},
   "outputs": [],
   "source": []
  },
  {
   "cell_type": "markdown",
   "metadata": {},
   "source": [
    "## dt"
   ]
  },
  {
   "cell_type": "code",
   "execution_count": 21,
   "metadata": {},
   "outputs": [
    {
     "name": "stdout",
     "output_type": "stream",
     "text": [
      "+---------------------------------------+----------------------------------------+----------+\n",
      "|                            probability|                            comment_text|prediction|\n",
      "+---------------------------------------+----------------------------------------+----------+\n",
      "|[0.3721461187214612,0.6278538812785388]|[yeah, right, dude, fucking, give, li...|       1.0|\n",
      "|[0.3721461187214612,0.6278538812785388]|          [fucking, cu, blocked, faggot]|       1.0|\n",
      "|[0.3721461187214612,0.6278538812785388]|[fucking, asshole, im, vandalizeing, ...|       1.0|\n",
      "|[0.3721461187214612,0.6278538812785388]|[assange, hope, somebody, put, bullet...|       1.0|\n",
      "|[0.3721461187214612,0.6278538812785388]|        [fucking, drankerbiiiitch, maan]|       1.0|\n",
      "|[0.3721461187214612,0.6278538812785388]|[go, suck, fucking, cock, stop, block...|       1.0|\n",
      "|[0.3721461187214612,0.6278538812785388]|[warthog, like, halo, fucking, retard...|       1.0|\n",
      "|[0.3721461187214612,0.6278538812785388]|[entire, section, sound, like, diary,...|       1.0|\n",
      "|[0.3721461187214612,0.6278538812785388]|[nt, want, hurt, even, idea, live, in...|       1.0|\n",
      "|[0.3721461187214612,0.6278538812785388]|[well, honestly, cant, fucking, bothe...|       1.0|\n",
      "|[0.3721461187214612,0.6278538812785388]|[oh, dear, terrible, given, take, sec...|       1.0|\n",
      "|[0.3721461187214612,0.6278538812785388]|[barnstar, style, border, solid, gray...|       1.0|\n",
      "|[0.3721461187214612,0.6278538812785388]|[suppose, add, wp, conlimited, list, ...|       1.0|\n",
      "|[0.3721461187214612,0.6278538812785388]|[atwozee, bloody, gujjarkanjar, keep,...|       1.0|\n",
      "|[0.3721461187214612,0.6278538812785388]|[two, reason, first, decision, contac...|       1.0|\n",
      "|[0.3721461187214612,0.6278538812785388]|[hate, eagle, since, made, comment, e...|       1.0|\n",
      "|[0.3721461187214612,0.6278538812785388]|[picture, suck, long, fucking, descri...|       1.0|\n",
      "|[0.3721461187214612,0.6278538812785388]|[fucking, marnetted, user, marnetted,...|       1.0|\n",
      "|[0.3721461187214612,0.6278538812785388]|[misspelling, nightrain, seems, missp...|       1.0|\n",
      "|[0.3721461187214612,0.6278538812785388]|[hope, guy, get, good, replacement, h...|       1.0|\n",
      "|[0.3721461187214612,0.6278538812785388]|           [damn, fucking, bitch, whore]|       1.0|\n",
      "|[0.3721461187214612,0.6278538812785388]|[el, c, fucking, little, bitch, true,...|       1.0|\n",
      "|[0.3721461187214612,0.6278538812785388]|[accosting, friendly, editor, baseles...|       1.0|\n",
      "|[0.3721461187214612,0.6278538812785388]|[serious, need, link, show, abortion,...|       1.0|\n",
      "|[0.3721461187214612,0.6278538812785388]|[fucking, notability, bullshit, fucki...|       1.0|\n",
      "|[0.3721461187214612,0.6278538812785388]|[big, deal, mark, jesus, fucking, chr...|       1.0|\n",
      "|[0.3721461187214612,0.6278538812785388]|[year, germany, beginning, may, brazi...|       1.0|\n",
      "|[0.3721461187214612,0.6278538812785388]|[dude, get, fucking, clue, goth, dres...|       1.0|\n",
      "|[0.3721461187214612,0.6278538812785388]|[block, notice, hi, account, indefini...|       1.0|\n",
      "|[0.3721461187214612,0.6278538812785388]|[punked, ashton, kutcher, popping, be...|       1.0|\n",
      "|[0.3721461187214612,0.6278538812785388]|[piece, shit, turn, vandal, best, fuc...|       1.0|\n",
      "|[0.3721461187214612,0.6278538812785388]|    [duck, discospinster, fucking, twat]|       1.0|\n",
      "|[0.3721461187214612,0.6278538812785388]|[boo, bullshit, seen, since, teenager...|       1.0|\n",
      "|[0.3721461187214612,0.6278538812785388]|[attention, scum, lowest, form, life,...|       1.0|\n",
      "|[0.3721461187214612,0.6278538812785388]|[oh, jesus, fucking, christ, grow, qu...|       1.0|\n",
      "|[0.3721461187214612,0.6278538812785388]|[place, wikipedia, cutkd, going, fuck...|       1.0|\n",
      "|[0.3721461187214612,0.6278538812785388]|[russian, roulette, fucking, retarded...|       1.0|\n",
      "|[0.3721461187214612,0.6278538812785388]|[semiprotected, edit, request, august...|       1.0|\n",
      "|[0.3721461187214612,0.6278538812785388]|[suck, fucking, shit, fucking, asshol...|       1.0|\n",
      "|[0.3721461187214612,0.6278538812785388]|[provide, description, best, fucking,...|       1.0|\n",
      "|[0.3721461187214612,0.6278538812785388]|[would, like, thank, fucking, dog, pl...|       1.0|\n",
      "|[0.3721461187214612,0.6278538812785388]|                         [fucking, love]|       1.0|\n",
      "|[0.3721461187214612,0.6278538812785388]|[lol, right, time, far, remember, per...|       1.0|\n",
      "|[0.3721461187214612,0.6278538812785388]|[vast, majority, humanity, fucking, r...|       1.0|\n",
      "|[0.3721461187214612,0.6278538812785388]|[actually, matter, little, whether, p...|       1.0|\n",
      "|[0.3721461187214612,0.6278538812785388]|[external, link, devastating, firstha...|       1.0|\n",
      "|[0.3721461187214612,0.6278538812785388]|[fucking, braindead, oroszka, syrian,...|       1.0|\n",
      "|[0.3721461187214612,0.6278538812785388]|[unblockfucking, unblock, ill, fuckin...|       1.0|\n",
      "|[0.3721461187214612,0.6278538812785388]|[indefinitely, blocked, indefinitely,...|       1.0|\n",
      "|[0.3721461187214612,0.6278538812785388]|[image, enthusiastic, keep, fucking, ...|       1.0|\n",
      "+---------------------------------------+----------------------------------------+----------+\n",
      "only showing top 50 rows\n",
      "\n"
     ]
    }
   ],
   "source": [
    "from pyspark.ml.classification import DecisionTreeClassificationModel\n",
    "\n",
    "load_dt_model = DecisionTreeClassificationModel.load('models/dt-model') \n",
    "Predictions = load_dt_model.transform(testData) \n",
    "\n",
    "Predictions.filter(Predictions['prediction'] == 1) \\\n",
    "    .select(\"probability\",\"comment_text\",\"prediction\") \\\n",
    "    .orderBy(\"probability\", ascending=False) \\\n",
    "    .show(n = 50, truncate = 40)"
   ]
  },
  {
   "cell_type": "code",
   "execution_count": null,
   "metadata": {},
   "outputs": [],
   "source": []
  },
  {
   "cell_type": "markdown",
   "metadata": {},
   "source": [
    "## nb"
   ]
  },
  {
   "cell_type": "code",
   "execution_count": 23,
   "metadata": {},
   "outputs": [
    {
     "name": "stdout",
     "output_type": "stream",
     "text": [
      "+----------------------------------------+----------------------------------------+----------+\n",
      "|                             probability|                            comment_text|prediction|\n",
      "+----------------------------------------+----------------------------------------+----------+\n",
      "| [0.4997219321730782,0.5002780678269217]|[thanks, yes, good, advice, mo, dab, ...|       1.0|\n",
      "| [0.4997124562538942,0.5002875437461058]|       [awesomeness, sexy, say, awesome]|       1.0|\n",
      "|[0.49961124917699773,0.5003887508230023]|[hi, im, bit, new, really, cool, lol,...|       1.0|\n",
      "|[0.49928920354389456,0.5007107964561055]|[stop, ignorant, right, report, other...|       1.0|\n",
      "| [0.4991308557681152,0.5008691442318847]|[yeah, j, milburn, ed, stuff, like, t...|       1.0|\n",
      "|[0.49873486651883564,0.5012651334811643]|                           [du, schwein]|       1.0|\n",
      "| [0.4986254668721353,0.5013745331278647]|[stupid, sourcing, true, totally, sweet]|       1.0|\n",
      "|[0.49854159023180294,0.5014584097681971]|[hey, protonk, revoke, talk, page, ac...|       1.0|\n",
      "|[0.49847308004912955,0.5015269199508704]|  [wikiproject, video, game, newsletter]|       1.0|\n",
      "| [0.4983805415827356,0.5016194584172644]|[firstly, feel, strongly, nt, change,...|       1.0|\n",
      "|[0.49826634322682906,0.5017336567731708]|[cartman, hell, cartman, television, ...|       1.0|\n",
      "| [0.4982603062277488,0.5017396937722512]|[surprised, unfortunately, look, ludw...|       1.0|\n",
      "| [0.4982086174672151,0.5017913825327849]|[brokenhearted, girl, yo, backing, im...|       1.0|\n",
      "| [0.4981713392060939,0.5018286607939062]|[well, officially, calling, winter, e...|       1.0|\n",
      "|[0.49811706666036887,0.5018829333396312]|[please, stop, continue, vandalize, w...|       1.0|\n",
      "|[0.49807993643208626,0.5019200635679137]|                 [polish, music, stupid]|       1.0|\n",
      "|[0.49807803931404115,0.5019219606859588]|[stephen, colbert, likewise, offered,...|       1.0|\n",
      "|[0.49806885171991294,0.5019311482800871]|          [fail, reading, comprehension]|       1.0|\n",
      "|[0.49803256712400085,0.5019674328759992]|[since, admin, poster, like, undoing,...|       1.0|\n",
      "|[0.49783684592343114,0.5021631540765689]|            [idea, dont, know, japanese]|       1.0|\n",
      "| [0.4973903847582607,0.5026096152417394]|                  [vandalizd, fag, page]|       1.0|\n",
      "|[0.49703043659693186,0.5029695634030681]|[block, patently, fucking, ridiculous...|       1.0|\n",
      "| [0.4969463306004046,0.5030536693995954]|[please, vandalize, page, edit, time,...|       1.0|\n",
      "| [0.4969162870687813,0.5030837129312188]|                                   [hey]|       1.0|\n",
      "| [0.4969162870687813,0.5030837129312188]|                                   [hey]|       1.0|\n",
      "| [0.4967812172599949,0.5032187827400052]| [jesus, bastard, joseph, god, disguise]|       1.0|\n",
      "| [0.49661203683402194,0.503387963165978]| [fucked, licked, pussy, made, creampie]|       1.0|\n",
      "| [0.4963896162044896,0.5036103837955103]|[never, recommended, step, article, b...|       1.0|\n",
      "|   [0.496384380531837,0.503615619468163]|                   [rat, wut, u, change]|       1.0|\n",
      "|  [0.496221501317992,0.5037784986820081]|                   [nick, tuinier, homo]|       1.0|\n",
      "| [0.4962200861291275,0.5037799138708725]|[delete, page, im, explaning, bible, ...|       1.0|\n",
      "| [0.4960898168854731,0.5039101831145268]|                   [ball, soothing, way]|       1.0|\n",
      "|[0.49596261055799623,0.5040373894420038]|  [agree, check, talking, bollock, hang]|       1.0|\n",
      "| [0.4959161621623714,0.5040838378376286]|      [jayk, life, kc, charnaye, stupid]|       1.0|\n",
      "|[0.49581486214928866,0.5041851378507114]|           [friendly, deleting, message]|       1.0|\n",
      "| [0.49579884947439595,0.504201150525604]|[dont, smoke, weed, enjoy, black, mil...|       1.0|\n",
      "|[0.49577516722985454,0.5042248327701454]|[spam, stop, removing, link, warning,...|       1.0|\n",
      "|[0.49570210273170745,0.5042978972682925]|[nt, freakin, care, bad, connection, ...|       1.0|\n",
      "|  [0.4956205368841351,0.504379463115865]|[huh, btich, ya, thats, wut, thot, ni...|       1.0|\n",
      "| [0.49549960403954096,0.504500395960459]|               [talk, bipolar, disorder]|       1.0|\n",
      "|[0.49547437077120177,0.5045256292287982]|[um, hey, one, know, changed, basical...|       1.0|\n",
      "|[0.49540164014193827,0.5045983598580618]|[oh, well, dead, go, pray, something,...|       1.0|\n",
      "|[0.49525516525003205,0.5047448347499679]|[tomarre, tomar, article, need, renam...|       1.0|\n",
      "|[0.49523680982730667,0.5047631901726933]|[utc, thing, florianopolitan, dialect...|       1.0|\n",
      "| [0.4951384067216564,0.5048615932783436]|[didnt, blah, blah, blah, bullshit, l...|       1.0|\n",
      "|  [0.49507345710876005,0.50492654289124]|[state, never, block, never, fuck, te...|       1.0|\n",
      "|[0.49495936794166573,0.5050406320583343]|[scared, people, happened, old, joke,...|       1.0|\n",
      "| [0.4947794955619557,0.5052205044380442]|[dyk, nomination, robert, heinecken, ...|       1.0|\n",
      "|[0.49470503239884944,0.5052949676011506]|      [usor, white, peopl, hate, hipanc]|       1.0|\n",
      "| [0.4946309743288652,0.5053690256711347]|                      [dead, iraq, hell]|       1.0|\n",
      "+----------------------------------------+----------------------------------------+----------+\n",
      "only showing top 50 rows\n",
      "\n"
     ]
    }
   ],
   "source": [
    "from pyspark.ml.classification import NaiveBayesModel\n",
    "\n",
    "load_nb_model = NaiveBayesModel.load('models/nb-model') \n",
    "Predictions = load_nb_model.transform(testData) \n",
    "\n",
    "Predictions.filter(Predictions['prediction'] == 1) \\\n",
    "    .select(\"probability\",\"comment_text\",\"prediction\") \\\n",
    "    .orderBy(\"probability\", ascending=False) \\\n",
    "    .show(n = 50, truncate = 40)"
   ]
  },
  {
   "cell_type": "code",
   "execution_count": null,
   "metadata": {},
   "outputs": [],
   "source": []
  },
  {
   "cell_type": "code",
   "execution_count": null,
   "metadata": {},
   "outputs": [],
   "source": []
  },
  {
   "cell_type": "code",
   "execution_count": null,
   "metadata": {},
   "outputs": [],
   "source": []
  },
  {
   "cell_type": "code",
   "execution_count": null,
   "metadata": {},
   "outputs": [],
   "source": []
  }
 ],
 "metadata": {
  "kernelspec": {
   "display_name": "Python 3",
   "language": "python",
   "name": "python3"
  },
  "language_info": {
   "codemirror_mode": {
    "name": "ipython",
    "version": 3
   },
   "file_extension": ".py",
   "mimetype": "text/x-python",
   "name": "python",
   "nbconvert_exporter": "python",
   "pygments_lexer": "ipython3",
   "version": "3.7.0"
  }
 },
 "nbformat": 4,
 "nbformat_minor": 2
}
